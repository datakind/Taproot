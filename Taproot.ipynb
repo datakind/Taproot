{
 "cells": [
  {
   "cell_type": "markdown",
   "metadata": {},
   "source": [
    "# Exploratory Analysis on Taproot Data\n",
    "\n",
    "What factors are likely to predict success for a non profit that is applying to Taproot"
   ]
  },
  {
   "cell_type": "code",
   "execution_count": 3,
   "metadata": {
    "collapsed": false
   },
   "outputs": [
    {
     "ename": "NameError",
     "evalue": "name 'PROJECT_ROOT' is not defined",
     "output_type": "error",
     "traceback": [
      "\u001b[1;31m---------------------------------------------------------------------------\u001b[0m",
      "\u001b[1;31mNameError\u001b[0m                                 Traceback (most recent call last)",
      "\u001b[1;32m<ipython-input-3-16b4d6f57138>\u001b[0m in \u001b[0;36m<module>\u001b[1;34m()\u001b[0m\n\u001b[0;32m      3\u001b[0m \u001b[1;32mimport\u001b[0m \u001b[0mos\u001b[0m\u001b[1;33m\u001b[0m\u001b[0m\n\u001b[0;32m      4\u001b[0m \u001b[1;33m\u001b[0m\u001b[0m\n\u001b[1;32m----> 5\u001b[1;33m \u001b[0mprojApp2projEval_link_df\u001b[0m \u001b[1;33m=\u001b[0m \u001b[0mpd\u001b[0m\u001b[1;33m.\u001b[0m\u001b[0mread_csv\u001b[0m\u001b[1;33m(\u001b[0m\u001b[0mos\u001b[0m\u001b[1;33m.\u001b[0m\u001b[0mpath\u001b[0m\u001b[1;33m.\u001b[0m\u001b[0mjoin\u001b[0m\u001b[1;33m(\u001b[0m\u001b[0mPROJECT_ROOT\u001b[0m\u001b[1;33m,\u001b[0m \u001b[0mlocalPath\u001b[0m\u001b[1;33m,\u001b[0m \u001b[1;34m'Projects Application-Project Evaluation links.csv'\u001b[0m\u001b[1;33m)\u001b[0m\u001b[1;33m)\u001b[0m\u001b[1;33m\u001b[0m\u001b[0m\n\u001b[0m\u001b[0;32m      6\u001b[0m \u001b[0mprojectsApps_df\u001b[0m \u001b[1;33m=\u001b[0m \u001b[0mpd\u001b[0m\u001b[1;33m.\u001b[0m\u001b[0mread_csv\u001b[0m\u001b[1;33m(\u001b[0m\u001b[0mos\u001b[0m\u001b[1;33m.\u001b[0m\u001b[0mpath\u001b[0m\u001b[1;33m.\u001b[0m\u001b[0mjoin\u001b[0m\u001b[1;33m(\u001b[0m\u001b[0mPROJECT_ROOT\u001b[0m\u001b[1;33m,\u001b[0m \u001b[0mlocalPath\u001b[0m\u001b[1;33m,\u001b[0m \u001b[1;34m'Projects Applications.csv'\u001b[0m\u001b[1;33m)\u001b[0m\u001b[1;33m)\u001b[0m\u001b[1;33m\u001b[0m\u001b[0m\n\u001b[0;32m      7\u001b[0m \u001b[0mprojectsAwarded_df\u001b[0m \u001b[1;33m=\u001b[0m \u001b[0mpd\u001b[0m\u001b[1;33m.\u001b[0m\u001b[0mread_csv\u001b[0m\u001b[1;33m(\u001b[0m\u001b[0mos\u001b[0m\u001b[1;33m.\u001b[0m\u001b[0mpath\u001b[0m\u001b[1;33m.\u001b[0m\u001b[0mjoin\u001b[0m\u001b[1;33m(\u001b[0m\u001b[0mPROJECT_ROOT\u001b[0m\u001b[1;33m,\u001b[0m \u001b[0mlocalPath\u001b[0m\u001b[1;33m,\u001b[0m \u001b[1;34m'Projects Awarded.csv'\u001b[0m\u001b[1;33m)\u001b[0m\u001b[1;33m)\u001b[0m\u001b[1;33m\u001b[0m\u001b[0m\n",
      "\u001b[1;31mNameError\u001b[0m: name 'PROJECT_ROOT' is not defined"
     ]
    }
   ],
   "source": [
    "import pandas as pd\n",
    "import matplotlib.pyplot as plt\n",
    "import os\n",
    "project_root\n",
    "\n",
    "\n",
    "projApp2projEval_link_df = pd.read_csv(os.path.join(PROJECT_ROOT, localPath, 'Projects Application-Project Evaluation links.csv'))\n",
    "projectsApps_df = pd.read_csv(os.path.join(PROJECT_ROOT, localPath, 'Projects Applications.csv'))\n",
    "projectsAwarded_df = pd.read_csv(os.path.join(PROJECT_ROOT, localPath, 'Projects Awarded.csv'))\n",
    "projectsEvals_df = pd.read_csv(os.path.join(PROJECT_ROOT, localPath, 'Projects Evaluations (2010 - Q2).csv'))\n",
    "proj2vol_link_df = pd.read_csv(os.path.join(PROJECT_ROOT, localPath, 'Projects-Volunteers Links.csv'))\n",
    "volunteersApp_df = pd.read_csv(os.path.join(PROJECT_ROOT, localPath, 'Volunteers Applications.csv'))\n",
    "volunteersEvals_df = pd.read_csv(os.path.join(PROJECT_ROOT, localPath, 'Volunteers Evaluation (2010 - Q2).csv'))"
   ]
  }
 ],
 "metadata": {
  "kernelspec": {
   "display_name": "Python 3",
   "language": "python",
   "name": "python3"
  },
  "language_info": {
   "codemirror_mode": {
    "name": "ipython",
    "version": 3
   },
   "file_extension": ".py",
   "mimetype": "text/x-python",
   "name": "python",
   "nbconvert_exporter": "python",
   "pygments_lexer": "ipython3",
   "version": "3.4.3"
  }
 },
 "nbformat": 4,
 "nbformat_minor": 0
}
